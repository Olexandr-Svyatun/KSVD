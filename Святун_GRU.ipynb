{
 "cells": [
  {
   "cell_type": "code",
   "execution_count": 6,
   "metadata": {},
   "outputs": [],
   "source": [
    "import tensorflow as tf\n",
    "from tensorflow.keras.models import Sequential\n",
    "from tensorflow.keras.layers import Embedding, GRU, Dense\n",
    "from tensorflow.keras.preprocessing.sequence import pad_sequences\n",
    "from tensorflow.keras.preprocessing.text import Tokenizer\n",
    "import numpy as np"
   ]
  },
  {
   "cell_type": "code",
   "execution_count": 7,
   "metadata": {},
   "outputs": [],
   "source": [
    "def create_gru_model(vocab_size, embedding_dim, maxlen):\n",
    "    model = tf.keras.Sequential([\n",
    "        tf.keras.layers.Embedding(vocab_size, embedding_dim, input_length=maxlen),\n",
    "        tf.keras.layers.GRU(64, return_sequences=True),\n",
    "        tf.keras.layers.GRU(32),\n",
    "        tf.keras.layers.Dense(64, activation='relu'),\n",
    "        tf.keras.layers.Dense(1, activation='sigmoid')\n",
    "    ])\n",
    "    return model"
   ]
  },
  {
   "cell_type": "code",
   "execution_count": 8,
   "metadata": {},
   "outputs": [
    {
     "name": "stdout",
     "output_type": "stream",
     "text": [
      "Epoch 1/10\n"
     ]
    },
    {
     "name": "stderr",
     "output_type": "stream",
     "text": [
      "c:\\Users\\Telor\\AppData\\Local\\Programs\\Python\\Python312\\Lib\\site-packages\\keras\\src\\layers\\core\\embedding.py:86: UserWarning: Argument `input_length` is deprecated. Just remove it.\n",
      "  warnings.warn(\n"
     ]
    },
    {
     "name": "stdout",
     "output_type": "stream",
     "text": [
      "\u001b[1m1/1\u001b[0m \u001b[32m━━━━━━━━━━━━━━━━━━━━\u001b[0m\u001b[37m\u001b[0m \u001b[1m3s\u001b[0m 3s/step - accuracy: 0.6667 - loss: 0.6909 - val_accuracy: 0.0000e+00 - val_loss: 0.7126\n",
      "Epoch 2/10\n",
      "\u001b[1m1/1\u001b[0m \u001b[32m━━━━━━━━━━━━━━━━━━━━\u001b[0m\u001b[37m\u001b[0m \u001b[1m0s\u001b[0m 40ms/step - accuracy: 0.6667 - loss: 0.6869 - val_accuracy: 0.0000e+00 - val_loss: 0.7266\n",
      "Epoch 3/10\n",
      "\u001b[1m1/1\u001b[0m \u001b[32m━━━━━━━━━━━━━━━━━━━━\u001b[0m\u001b[37m\u001b[0m \u001b[1m0s\u001b[0m 40ms/step - accuracy: 0.6667 - loss: 0.6827 - val_accuracy: 0.0000e+00 - val_loss: 0.7430\n",
      "Epoch 4/10\n",
      "\u001b[1m1/1\u001b[0m \u001b[32m━━━━━━━━━━━━━━━━━━━━\u001b[0m\u001b[37m\u001b[0m \u001b[1m0s\u001b[0m 41ms/step - accuracy: 0.6667 - loss: 0.6781 - val_accuracy: 0.0000e+00 - val_loss: 0.7617\n",
      "Epoch 5/10\n",
      "\u001b[1m1/1\u001b[0m \u001b[32m━━━━━━━━━━━━━━━━━━━━\u001b[0m\u001b[37m\u001b[0m \u001b[1m0s\u001b[0m 40ms/step - accuracy: 0.6667 - loss: 0.6732 - val_accuracy: 0.0000e+00 - val_loss: 0.7841\n",
      "Epoch 6/10\n",
      "\u001b[1m1/1\u001b[0m \u001b[32m━━━━━━━━━━━━━━━━━━━━\u001b[0m\u001b[37m\u001b[0m \u001b[1m0s\u001b[0m 41ms/step - accuracy: 0.6667 - loss: 0.6679 - val_accuracy: 0.0000e+00 - val_loss: 0.8108\n",
      "Epoch 7/10\n",
      "\u001b[1m1/1\u001b[0m \u001b[32m━━━━━━━━━━━━━━━━━━━━\u001b[0m\u001b[37m\u001b[0m \u001b[1m0s\u001b[0m 40ms/step - accuracy: 0.6667 - loss: 0.6621 - val_accuracy: 0.0000e+00 - val_loss: 0.8429\n",
      "Epoch 8/10\n",
      "\u001b[1m1/1\u001b[0m \u001b[32m━━━━━━━━━━━━━━━━━━━━\u001b[0m\u001b[37m\u001b[0m \u001b[1m0s\u001b[0m 39ms/step - accuracy: 0.6667 - loss: 0.6562 - val_accuracy: 0.0000e+00 - val_loss: 0.8810\n",
      "Epoch 9/10\n",
      "\u001b[1m1/1\u001b[0m \u001b[32m━━━━━━━━━━━━━━━━━━━━\u001b[0m\u001b[37m\u001b[0m \u001b[1m0s\u001b[0m 41ms/step - accuracy: 0.6667 - loss: 0.6503 - val_accuracy: 0.0000e+00 - val_loss: 0.9269\n",
      "Epoch 10/10\n",
      "\u001b[1m1/1\u001b[0m \u001b[32m━━━━━━━━━━━━━━━━━━━━\u001b[0m\u001b[37m\u001b[0m \u001b[1m0s\u001b[0m 40ms/step - accuracy: 0.6667 - loss: 0.6447 - val_accuracy: 0.0000e+00 - val_loss: 0.9831\n"
     ]
    },
    {
     "data": {
      "text/plain": [
       "<keras.src.callbacks.history.History at 0x2acfc7d0b00>"
      ]
     },
     "execution_count": 8,
     "metadata": {},
     "output_type": "execute_result"
    }
   ],
   "source": [
    "positive_reviews = [\n",
    "    \"Чудова картина, рекомендую до перегляду\",\n",
    "    \"Гарні актори\",\n",
    "    \"Чудовйи сюжет\",\n",
    "    \"Відмінна гра акторів та сюжет\"\n",
    "    \"Якісні ефекти\"\n",
    "]\n",
    "\n",
    "negative_reviews = [\n",
    "    \"Фільм був дуже нудним. Витрачений час.\",\n",
    "    \"Нецікавий сюжет\",\n",
    "    \"Погана гра акторів\",\n",
    "    \"Сюжет та гра акторів зробили прегляд нестерпним\"\n",
    "]\n",
    "\n",
    "all_reviews = positive_reviews + negative_reviews\n",
    "\n",
    "labels = np.array([1] * len(positive_reviews) + [0] * len(negative_reviews))\n",
    "\n",
    "vocab_size = 1000\n",
    "embedding_dim = 16\n",
    "maxlen = 20\n",
    "trunc_type='post'\n",
    "padding_type='post'\n",
    "oov_tok = \"<OOV>\"\n",
    "training_size = len(all_reviews)\n",
    "\n",
    "tokenizer = Tokenizer(num_words=vocab_size, oov_token=oov_tok)\n",
    "tokenizer.fit_on_texts(all_reviews)\n",
    "word_index = tokenizer.word_index\n",
    "\n",
    "sequences = tokenizer.texts_to_sequences(all_reviews)\n",
    "padded = pad_sequences(sequences, maxlen=maxlen, padding=padding_type, truncating=trunc_type)\n",
    "\n",
    "split = int(0.8 * training_size)\n",
    "\n",
    "train_sequences = padded[:split]\n",
    "test_sequences = padded[split:]\n",
    "train_labels = labels[:split]\n",
    "test_labels = labels[split:]\n",
    "\n",
    "gru_model = create_gru_model(vocab_size, embedding_dim, maxlen)\n",
    "gru_model.compile(loss='binary_crossentropy',optimizer='adam',metrics=['accuracy'])\n",
    "gru_model.fit(train_sequences, train_labels, epochs=10, validation_data=(test_sequences, test_labels))"
   ]
  },
  {
   "cell_type": "code",
   "execution_count": 20,
   "metadata": {},
   "outputs": [
    {
     "name": "stdout",
     "output_type": "stream",
     "text": [
      "\u001b[1m1/1\u001b[0m \u001b[32m━━━━━━━━━━━━━━━━━━━━\u001b[0m\u001b[37m\u001b[0m \u001b[1m1s\u001b[0m 557ms/step\n",
      "[[0.49964076]\n",
      " [0.5026885 ]\n",
      " [0.499178  ]\n",
      " [0.5045941 ]\n",
      " [0.5012484 ]]\n",
      "Рецензія: Захоплюючий фільм,чудово зроблені ефекти\n",
      "Прогноз: Позитивний\n",
      "\n",
      "Рецензія: Це нудний фільм, що не викликає нітересу\n",
      "Прогноз: Негативний\n",
      "\n",
      "Рецензія: Цікава історія, варто до перегляду\n",
      "Прогноз: Позитивний\n",
      "\n",
      "Рецензія: Прісний сюжет, заснув на половині\n",
      "Прогноз: Негативний\n",
      "\n",
      "Рецензія: Жахлива гра акторів, ніби роботи\n",
      "Прогноз: Негативний\n",
      "\n"
     ]
    }
   ],
   "source": [
    "test_reviews = [\n",
    "    \"Захоплюючий фільм,чудово зроблені ефекти\",\n",
    "      \"Це нудний фільм, що не викликає нітересу\",\n",
    "    \"Цікава історія, варто до перегляду\",\n",
    "    \"Прісний сюжет, заснув на половині\",\n",
    "    \"Жахлива гра акторів, ніби роботи\"\n",
    "]\n",
    "max_review_len = 100\n",
    "model = Sequential([\n",
    "    Embedding(input_dim=10000, output_dim=128),\n",
    "    GRU(128, return_sequences=True),\n",
    "    GRU(64),\n",
    "    Dense(1, activation='sigmoid')\n",
    "])\n",
    "\n",
    "test_sequences = tokenizer.texts_to_sequences(test_reviews)\n",
    "test_padded_sequences = pad_sequences(test_sequences, maxlen=max_review_len)\n",
    "\n",
    "predictions = model.predict(test_padded_sequences)\n",
    "print(predictions)\n",
    "\n",
    "for i, review in enumerate(test_reviews):\n",
    "    print(f\"Рецензія: {review}\\nПрогноз: {'Негативний' if predictions[i] > 0.5 else 'Позитивний'}\\n\")"
   ]
  }
 ],
 "metadata": {
  "kernelspec": {
   "display_name": "Python 3",
   "language": "python",
   "name": "python3"
  },
  "language_info": {
   "codemirror_mode": {
    "name": "ipython",
    "version": 3
   },
   "file_extension": ".py",
   "mimetype": "text/x-python",
   "name": "python",
   "nbconvert_exporter": "python",
   "pygments_lexer": "ipython3",
   "version": "3.12.0"
  }
 },
 "nbformat": 4,
 "nbformat_minor": 2
}
