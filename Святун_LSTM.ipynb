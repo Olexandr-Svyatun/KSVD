{
 "cells": [
  {
   "cell_type": "code",
   "execution_count": 1,
   "metadata": {},
   "outputs": [],
   "source": [
    "from keras.models import Sequential\n",
    "from keras.layers import Embedding, LSTM, Dense, Dropout\n",
    "from keras.preprocessing.sequence import pad_sequences\n",
    "from tensorflow.keras.preprocessing.text import Tokenizer\n",
    "from keras.optimizers import Adam\n",
    "import numpy as np"
   ]
  },
  {
   "cell_type": "code",
   "execution_count": 8,
   "metadata": {},
   "outputs": [],
   "source": [
    "reviews = [\n",
    "    \"Фільм був дуже нудним. Витрачений час.\",\n",
    "    \"Нецікавий сюжет\",\n",
    "    \"Погана гра акторів\",\n",
    "    \"Сюжет та гра акторів зробили прегляд нестерпним\"\n",
    "    \"Чудова картина, рекомендую до перегляду\",\n",
    "    \"Гарні актори\",\n",
    "    \"Чудовйи сюжет\",\n",
    "    \"Відмінна гра акторів та сюжет\"\n",
    "    \"Якісні ефекти\"\n",
    "    \"Чудовий фільм з глибоким сенсом\",\n",
    "    \"Жахливий фільм, втрачено час\",\n",
    "    \"Цікава стрічка, рекомендую переглянути\",\n",
    "    \"Нудний фільм, не вартий уваги\",\n",
    "    \"Емоційний та захоплюючий фільм\",\n",
    "    \"Сюжет слабкий, не вражає\",\n",
    "    \"Фільм вразив своєю глибиною\",\n",
    "    \"Занудний і нецікавий фільм\",\n",
    "]\n",
    "\n",
    "labels = [1, 0, 1, 0, 1, 0, 1, 0, 1, 0, 1, 0, 1, 0, 1, 0, 1, 0]  \n",
    "\n",
    "\n",
    "tokenizer = Tokenizer(num_words=5000, filters='!–\"—#$%&amp;()*+,-./:;<=>?@[\\\\]^_`{|}~\\t\\n\\r«»', lower=True, split=' ', char_level=False)\n",
    "tokenizer.fit_on_texts(reviews)\n",
    "sequences = tokenizer.texts_to_sequences(reviews)\n",
    "\n",
    "max_review_len = 100\n",
    "padded_sequences = pad_sequences(sequences, maxlen=max_review_len)"
   ]
  },
  {
   "cell_type": "code",
   "execution_count": 3,
   "metadata": {},
   "outputs": [],
   "source": [
    "model = Sequential()\n",
    "model.add(Embedding(input_dim=5000, output_dim=128))\n",
    "model.add(LSTM(128, dropout=0.2, recurrent_dropout=0.2))\n",
    "model.add(Dense(1, activation='sigmoid'))\n",
    "\n",
    "optimizer = Adam(learning_rate=0.001)\n",
    "\n",
    "model.compile(optimizer=optimizer, loss='binary_crossentropy', metrics=['accuracy'])"
   ]
  },
  {
   "cell_type": "code",
   "execution_count": 9,
   "metadata": {},
   "outputs": [
    {
     "name": "stdout",
     "output_type": "stream",
     "text": [
      "Epoch 1/20\n",
      "\u001b[1m1/1\u001b[0m \u001b[32m━━━━━━━━━━━━━━━━━━━━\u001b[0m\u001b[37m\u001b[0m \u001b[1m0s\u001b[0m 82ms/step - accuracy: 0.5455 - loss: 0.7191 - val_accuracy: 0.3333 - val_loss: 0.8693\n",
      "Epoch 2/20\n",
      "\u001b[1m1/1\u001b[0m \u001b[32m━━━━━━━━━━━━━━━━━━━━\u001b[0m\u001b[37m\u001b[0m \u001b[1m0s\u001b[0m 57ms/step - accuracy: 0.5455 - loss: 0.7044 - val_accuracy: 0.3333 - val_loss: 0.8695\n",
      "Epoch 3/20\n",
      "\u001b[1m1/1\u001b[0m \u001b[32m━━━━━━━━━━━━━━━━━━━━\u001b[0m\u001b[37m\u001b[0m \u001b[1m0s\u001b[0m 57ms/step - accuracy: 0.5455 - loss: 0.7578 - val_accuracy: 0.3333 - val_loss: 0.8473\n",
      "Epoch 4/20\n",
      "\u001b[1m1/1\u001b[0m \u001b[32m━━━━━━━━━━━━━━━━━━━━\u001b[0m\u001b[37m\u001b[0m \u001b[1m0s\u001b[0m 57ms/step - accuracy: 0.6364 - loss: 0.7153 - val_accuracy: 0.3333 - val_loss: 0.8233\n",
      "Epoch 5/20\n",
      "\u001b[1m1/1\u001b[0m \u001b[32m━━━━━━━━━━━━━━━━━━━━\u001b[0m\u001b[37m\u001b[0m \u001b[1m0s\u001b[0m 59ms/step - accuracy: 0.6364 - loss: 0.6930 - val_accuracy: 0.3333 - val_loss: 0.8005\n",
      "Epoch 6/20\n",
      "\u001b[1m1/1\u001b[0m \u001b[32m━━━━━━━━━━━━━━━━━━━━\u001b[0m\u001b[37m\u001b[0m \u001b[1m0s\u001b[0m 71ms/step - accuracy: 0.6364 - loss: 0.6735 - val_accuracy: 0.3333 - val_loss: 0.7813\n",
      "Epoch 7/20\n",
      "\u001b[1m1/1\u001b[0m \u001b[32m━━━━━━━━━━━━━━━━━━━━\u001b[0m\u001b[37m\u001b[0m \u001b[1m0s\u001b[0m 65ms/step - accuracy: 0.6364 - loss: 0.6816 - val_accuracy: 0.3333 - val_loss: 0.7648\n",
      "Epoch 8/20\n",
      "\u001b[1m1/1\u001b[0m \u001b[32m━━━━━━━━━━━━━━━━━━━━\u001b[0m\u001b[37m\u001b[0m \u001b[1m0s\u001b[0m 61ms/step - accuracy: 0.6364 - loss: 0.6436 - val_accuracy: 0.0000e+00 - val_loss: 0.7520\n",
      "Epoch 9/20\n",
      "\u001b[1m1/1\u001b[0m \u001b[32m━━━━━━━━━━━━━━━━━━━━\u001b[0m\u001b[37m\u001b[0m \u001b[1m0s\u001b[0m 61ms/step - accuracy: 0.7273 - loss: 0.6477 - val_accuracy: 0.3333 - val_loss: 0.7410\n",
      "Epoch 10/20\n",
      "\u001b[1m1/1\u001b[0m \u001b[32m━━━━━━━━━━━━━━━━━━━━\u001b[0m\u001b[37m\u001b[0m \u001b[1m0s\u001b[0m 59ms/step - accuracy: 0.7273 - loss: 0.6363 - val_accuracy: 0.3333 - val_loss: 0.7313\n",
      "Epoch 11/20\n",
      "\u001b[1m1/1\u001b[0m \u001b[32m━━━━━━━━━━━━━━━━━━━━\u001b[0m\u001b[37m\u001b[0m \u001b[1m0s\u001b[0m 58ms/step - accuracy: 0.8182 - loss: 0.6229 - val_accuracy: 0.3333 - val_loss: 0.7234\n",
      "Epoch 12/20\n",
      "\u001b[1m1/1\u001b[0m \u001b[32m━━━━━━━━━━━━━━━━━━━━\u001b[0m\u001b[37m\u001b[0m \u001b[1m0s\u001b[0m 56ms/step - accuracy: 0.8182 - loss: 0.6132 - val_accuracy: 0.3333 - val_loss: 0.7168\n",
      "Epoch 13/20\n",
      "\u001b[1m1/1\u001b[0m \u001b[32m━━━━━━━━━━━━━━━━━━━━\u001b[0m\u001b[37m\u001b[0m \u001b[1m0s\u001b[0m 56ms/step - accuracy: 0.8182 - loss: 0.6066 - val_accuracy: 0.3333 - val_loss: 0.7112\n",
      "Epoch 14/20\n",
      "\u001b[1m1/1\u001b[0m \u001b[32m━━━━━━━━━━━━━━━━━━━━\u001b[0m\u001b[37m\u001b[0m \u001b[1m0s\u001b[0m 60ms/step - accuracy: 0.8182 - loss: 0.5911 - val_accuracy: 0.3333 - val_loss: 0.7067\n",
      "Epoch 15/20\n",
      "\u001b[1m1/1\u001b[0m \u001b[32m━━━━━━━━━━━━━━━━━━━━\u001b[0m\u001b[37m\u001b[0m \u001b[1m0s\u001b[0m 56ms/step - accuracy: 0.8182 - loss: 0.5721 - val_accuracy: 0.3333 - val_loss: 0.7026\n",
      "Epoch 16/20\n",
      "\u001b[1m1/1\u001b[0m \u001b[32m━━━━━━━━━━━━━━━━━━━━\u001b[0m\u001b[37m\u001b[0m \u001b[1m0s\u001b[0m 57ms/step - accuracy: 0.9091 - loss: 0.5709 - val_accuracy: 0.6667 - val_loss: 0.6993\n",
      "Epoch 17/20\n",
      "\u001b[1m1/1\u001b[0m \u001b[32m━━━━━━━━━━━━━━━━━━━━\u001b[0m\u001b[37m\u001b[0m \u001b[1m0s\u001b[0m 57ms/step - accuracy: 1.0000 - loss: 0.5430 - val_accuracy: 0.6667 - val_loss: 0.6968\n",
      "Epoch 18/20\n",
      "\u001b[1m1/1\u001b[0m \u001b[32m━━━━━━━━━━━━━━━━━━━━\u001b[0m\u001b[37m\u001b[0m \u001b[1m0s\u001b[0m 58ms/step - accuracy: 1.0000 - loss: 0.5141 - val_accuracy: 0.6667 - val_loss: 0.6949\n",
      "Epoch 19/20\n",
      "\u001b[1m1/1\u001b[0m \u001b[32m━━━━━━━━━━━━━━━━━━━━\u001b[0m\u001b[37m\u001b[0m \u001b[1m0s\u001b[0m 58ms/step - accuracy: 1.0000 - loss: 0.5184 - val_accuracy: 0.6667 - val_loss: 0.6946\n",
      "Epoch 20/20\n",
      "\u001b[1m1/1\u001b[0m \u001b[32m━━━━━━━━━━━━━━━━━━━━\u001b[0m\u001b[37m\u001b[0m \u001b[1m0s\u001b[0m 57ms/step - accuracy: 1.0000 - loss: 0.4793 - val_accuracy: 0.6667 - val_loss: 0.6939\n"
     ]
    },
    {
     "data": {
      "text/plain": [
       "<keras.src.callbacks.history.History at 0x1404717ee70>"
      ]
     },
     "execution_count": 9,
     "metadata": {},
     "output_type": "execute_result"
    }
   ],
   "source": [
    "labels = np.array(labels)\n",
    "model.fit(padded_sequences, labels, batch_size=32, epochs=20, validation_split=0.2)"
   ]
  },
  {
   "cell_type": "code",
   "execution_count": 20,
   "metadata": {},
   "outputs": [
    {
     "name": "stdout",
     "output_type": "stream",
     "text": [
      "\u001b[1m1/1\u001b[0m \u001b[32m━━━━━━━━━━━━━━━━━━━━\u001b[0m\u001b[37m\u001b[0m \u001b[1m0s\u001b[0m 19ms/step\n",
      "[[0.6253472 ]\n",
      " [0.4588767 ]\n",
      " [0.65483284]\n",
      " [0.52061105]\n",
      " [0.3998398 ]\n",
      " [0.6482559 ]\n",
      " [0.41782767]\n",
      " [0.6683159 ]\n",
      " [0.45817843]]\n",
      "Рецензія: Фільм був дуже нудним. Витрачений час\n",
      "Прогноз: негативний\n",
      "\n",
      "Рецензія: цікавий сюжет\n",
      "Прогноз: позитивний\n",
      "\n",
      "Рецензія: Погана гра акторів\n",
      "Прогноз: негативний\n",
      "\n",
      "Рецензія: Сюжет та гра акторів зробили прегляд нестерпним\n",
      "Прогноз: негативний\n",
      "\n",
      "Рецензія: Чудова картина, рекомендую до перегляду\n",
      "Прогноз: позитивний\n",
      "\n",
      "Рецензія: Гарні актори\n",
      "Прогноз: негативний\n",
      "\n",
      "Рецензія: Чудовйи сюжет\n",
      "Прогноз: позитивний\n",
      "\n",
      "Рецензія: Відмінна гра акторів та сюжет\n",
      "Прогноз: негативний\n",
      "\n",
      "Рецензія: Якісні ефекти\n",
      "Прогноз: позитивний\n",
      "\n"
     ]
    }
   ],
   "source": [
    "test_reviews = [\n",
    "   \"Фільм був дуже нудним. Витрачений час\",\n",
    "    \"цікавий сюжет\",\n",
    "    \"Погана гра акторів\",\n",
    "    \"Сюжет та гра акторів зробили прегляд нестерпним\",\n",
    "    \"Чудова картина, рекомендую до перегляду\",\n",
    "    \"Гарні актори\",\n",
    "    \"Чудовйи сюжет\",\n",
    "    \"Відмінна гра акторів та сюжет\",\n",
    "    \"Якісні ефекти\"\n",
    "]\n",
    "\n",
    "test_sequences = tokenizer.texts_to_sequences(test_reviews)\n",
    "test_padded_sequences = pad_sequences(test_sequences, maxlen=max_review_len)\n",
    "\n",
    "predictions = model.predict(test_padded_sequences)\n",
    "print(predictions)\n",
    "\n",
    "for i, review in enumerate(test_reviews):\n",
    "    print(f\"Рецензія: {review}\\nПрогноз: {'негативний' if predictions[i] > 0.5 else 'позитивний'}\\n\")"
   ]
  }
 ],
 "metadata": {
  "kernelspec": {
   "display_name": "Python 3",
   "language": "python",
   "name": "python3"
  },
  "language_info": {
   "codemirror_mode": {
    "name": "ipython",
    "version": 3
   },
   "file_extension": ".py",
   "mimetype": "text/x-python",
   "name": "python",
   "nbconvert_exporter": "python",
   "pygments_lexer": "ipython3",
   "version": "3.12.0"
  }
 },
 "nbformat": 4,
 "nbformat_minor": 2
}
